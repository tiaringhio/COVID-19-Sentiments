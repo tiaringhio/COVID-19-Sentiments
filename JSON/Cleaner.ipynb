{
 "cells": [
  {
   "cell_type": "code",
   "execution_count": 16,
   "metadata": {},
   "outputs": [],
   "source": [
    "from nltk.corpus import stopwords\n",
    "import pandas as pd\n",
    "import json\n",
    "\n",
    "# Reading tweets from JSON file and ading them to Pandas Dataframe\n",
    "tweets = pd.read_json('saver_output.json')"
   ]
  },
  {
   "cell_type": "code",
   "execution_count": 17,
   "metadata": {},
   "outputs": [],
   "source": [
    "# Deleting duplicate tweets\n",
    "tweets = tweets.drop_duplicates(subset='text')\n",
    "tweets['data'] = tweets['text']"
   ]
  },
  {
   "cell_type": "code",
   "execution_count": 18,
   "metadata": {},
   "outputs": [],
   "source": [
    "# Defining stopwords and adding a space before and after to exclude the case\n",
    "# in which the stopword is cointained in a word\n",
    "words = set(stopwords.words('italian'))\n",
    "stopwords = [' ' + x + ' ' for x in words]"
   ]
  },
  {
   "cell_type": "code",
   "execution_count": 19,
   "metadata": {},
   "outputs": [],
   "source": [
    "# Removing the tags\n",
    "tweets.text = tweets.text.replace(\n",
    "    \"@[\\w]*[_-]*[\\w]*\", \" \", regex=True)\n",
    "# Removing the spaces in excess\n",
    "tweets.text = tweets.text.replace('\\s+', ' ', regex=True)\n",
    "# Removing the space at the beginning\n",
    "tweets.text = tweets.text.replace('^ ', '', regex=True)\n",
    "# Removing the space at the end\n",
    "tweets.text = tweets.text.replace(' $', '', regex=True)\n",
    "# To lowercase\n",
    "tweets.text = tweets.text.apply(\n",
    "    lambda x: x.lower())\n",
    "tweets.text = tweets.text.replace('^', ' ', regex=True)\n",
    "tweets.text = tweets.text.replace('$', ' ', regex=True)\n",
    "\n",
    "for word in stopwords:\n",
    "    tweets.text = tweets.text.replace(word, ' ', regex=True)\n",
    "\n",
    "# Removing the space at the beginning and at the end\n",
    "tweets.text = tweets.text.apply(lambda x: x.strip())\n",
    "# Removing empty tweets\n",
    "tweets = tweets[tweets.text != '']"
   ]
  },
  {
   "cell_type": "code",
   "execution_count": 20,
   "metadata": {},
   "outputs": [],
   "source": [
    "# Saving to CSV\n",
    "tweets.to_csv('dataCleaned.csv')\n"
   ]
  }
 ],
 "metadata": {
  "kernelspec": {
   "display_name": "Python 3",
   "language": "python",
   "name": "python3"
  },
  "language_info": {
   "codemirror_mode": {
    "name": "ipython",
    "version": 3
   },
   "file_extension": ".py",
   "mimetype": "text/x-python",
   "name": "python",
   "nbconvert_exporter": "python",
   "pygments_lexer": "ipython3",
   "version": "3.8.2"
  }
 },
 "nbformat": 4,
 "nbformat_minor": 4
}
